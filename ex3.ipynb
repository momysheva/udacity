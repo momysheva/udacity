{
 "cells": [
  {
   "cell_type": "code",
   "execution_count": 6,
   "metadata": {},
   "outputs": [],
   "source": [
    "import torch\n",
    "from torch import nn\n",
    "import torch.nn.functional as F\n",
    "from torchvision import datasets, transforms\n",
    "\n",
    "# Define a transform to normalize the data\n",
    "transform = transforms.Compose([transforms.ToTensor(), transforms.Normalize([0.5], [0.5])])\n",
    "# Download and load the training data\n",
    "trainset = datasets.MNIST('~/.pytorch/MNIST_data/', download=True, train=True, transform=transform)\n",
    "trainloader = torch.utils.data.DataLoader(trainset, batch_size=64, shuffle=True)"
   ]
  },
  {
   "cell_type": "code",
   "execution_count": 10,
   "metadata": {},
   "outputs": [
    {
     "name": "stdout",
     "output_type": "stream",
     "text": [
      "tensor(2.2855, grad_fn=<NllLossBackward0>)\n"
     ]
    }
   ],
   "source": [
    "# Build a feed-forward network\n",
    "model = nn.Sequential(nn.Linear(784, 128),\n",
    "                      nn.ReLU(),\n",
    "                      nn.Linear(128, 64),\n",
    "                      nn.ReLU(),\n",
    "                      nn.Linear(64, 10),\n",
    "                      nn.LogSoftmax(dim=1))\n",
    "\n",
    "criterion = nn.NLLLoss()\n",
    "images, labels = next(iter(trainloader))\n",
    "images = images.view(images.shape[0], -1)\n",
    "\n",
    "logits = model(images)\n",
    "loss = criterion(logits, labels)\n",
    "print(loss)\n"
   ]
  },
  {
   "cell_type": "code",
   "execution_count": 11,
   "metadata": {},
   "outputs": [
    {
     "name": "stdout",
     "output_type": "stream",
     "text": [
      "Before backward pass: \n",
      " None\n",
      "After backward pass: \n",
      " tensor([[ 3.0504e-03,  3.0504e-03,  3.0504e-03,  ...,  3.0504e-03,\n",
      "          3.0504e-03,  3.0504e-03],\n",
      "        [ 1.8470e-04,  1.8470e-04,  1.8470e-04,  ...,  1.8470e-04,\n",
      "          1.8470e-04,  1.8470e-04],\n",
      "        [ 6.4774e-04,  6.4774e-04,  6.4774e-04,  ...,  6.4774e-04,\n",
      "          6.4774e-04,  6.4774e-04],\n",
      "        ...,\n",
      "        [ 3.6337e-03,  3.6337e-03,  3.6337e-03,  ...,  3.6337e-03,\n",
      "          3.6337e-03,  3.6337e-03],\n",
      "        [-5.9112e-06, -5.9112e-06, -5.9112e-06,  ..., -5.9104e-06,\n",
      "         -5.9104e-06, -5.9104e-06],\n",
      "        [ 2.5097e-03,  2.5097e-03,  2.5097e-03,  ...,  2.5097e-03,\n",
      "          2.5097e-03,  2.5097e-03]])\n"
     ]
    }
   ],
   "source": [
    "print('Before backward pass: \\n', model[0].weight.grad)\n",
    "\n",
    "loss.backward()\n",
    "\n",
    "print('After backward pass: \\n', model[0].weight.grad)"
   ]
  },
  {
   "cell_type": "code",
   "execution_count": 12,
   "metadata": {},
   "outputs": [],
   "source": [
    "from torch import optim\n",
    "\n",
    "# Optimizers require the parameters to optimize and a learning rate\n",
    "optimizer = optim.SGD(model.parameters(), lr=0.01)"
   ]
  },
  {
   "cell_type": "code",
   "execution_count": 13,
   "metadata": {},
   "outputs": [
    {
     "name": "stdout",
     "output_type": "stream",
     "text": [
      "Initial weights -  Parameter containing:\n",
      "tensor([[ 0.0349, -0.0146, -0.0342,  ..., -0.0055,  0.0305, -0.0318],\n",
      "        [ 0.0172,  0.0118,  0.0109,  ..., -0.0030,  0.0316, -0.0258],\n",
      "        [-0.0172,  0.0102, -0.0328,  ...,  0.0099,  0.0273, -0.0139],\n",
      "        ...,\n",
      "        [-0.0160,  0.0064,  0.0163,  ...,  0.0199,  0.0325,  0.0270],\n",
      "        [ 0.0345, -0.0058,  0.0244,  ...,  0.0293,  0.0110, -0.0334],\n",
      "        [ 0.0184, -0.0342,  0.0210,  ...,  0.0059,  0.0141,  0.0145]],\n",
      "       requires_grad=True)\n",
      "Gradient - tensor([[ 2.2577e-03,  2.2577e-03,  2.2577e-03,  ...,  2.2577e-03,\n",
      "          2.2577e-03,  2.2577e-03],\n",
      "        [ 4.3389e-04,  4.3389e-04,  4.3389e-04,  ...,  4.3389e-04,\n",
      "          4.3389e-04,  4.3389e-04],\n",
      "        [ 4.5559e-04,  4.5559e-04,  4.5559e-04,  ...,  4.5559e-04,\n",
      "          4.5559e-04,  4.5559e-04],\n",
      "        ...,\n",
      "        [ 1.0217e-03,  1.0217e-03,  1.0217e-03,  ...,  1.0217e-03,\n",
      "          1.0217e-03,  1.0217e-03],\n",
      "        [ 2.7291e-05,  2.7291e-05,  2.7291e-05,  ...,  2.7291e-05,\n",
      "          2.7291e-05,  2.7291e-05],\n",
      "        [-2.1466e-04, -2.1466e-04, -2.1466e-04,  ..., -2.1466e-04,\n",
      "         -2.1466e-04, -2.1466e-04]])\n"
     ]
    }
   ],
   "source": [
    "print('Initial weights - ', model[0].weight)\n",
    "\n",
    "images, labels = next(iter(trainloader))\n",
    "images.resize_(64, 784)\n",
    "\n",
    "# Clear the gradients, do this because gradients are accumulated\n",
    "optimizer.zero_grad()\n",
    "\n",
    "# Forward pass, then backward pass, then update weights\n",
    "output = model.forward(images)\n",
    "loss = criterion(output, labels)\n",
    "loss.backward()\n",
    "print('Gradient -', model[0].weight.grad)"
   ]
  },
  {
   "cell_type": "code",
   "execution_count": 14,
   "metadata": {},
   "outputs": [
    {
     "name": "stdout",
     "output_type": "stream",
     "text": [
      "Updated weights -  Parameter containing:\n",
      "tensor([[ 0.0349, -0.0146, -0.0342,  ..., -0.0055,  0.0305, -0.0318],\n",
      "        [ 0.0172,  0.0118,  0.0109,  ..., -0.0030,  0.0316, -0.0258],\n",
      "        [-0.0172,  0.0102, -0.0328,  ...,  0.0099,  0.0273, -0.0139],\n",
      "        ...,\n",
      "        [-0.0160,  0.0064,  0.0163,  ...,  0.0199,  0.0324,  0.0269],\n",
      "        [ 0.0345, -0.0058,  0.0244,  ...,  0.0293,  0.0110, -0.0334],\n",
      "        [ 0.0185, -0.0342,  0.0210,  ...,  0.0059,  0.0141,  0.0145]],\n",
      "       requires_grad=True)\n"
     ]
    }
   ],
   "source": [
    "# Take an update step and few the new weights\n",
    "optimizer.step()\n",
    "print('Updated weights - ', model[0].weight)"
   ]
  },
  {
   "cell_type": "code",
   "execution_count": 15,
   "metadata": {},
   "outputs": [
    {
     "name": "stdout",
     "output_type": "stream",
     "text": [
      "Training loss: 1.0054351981959617\n",
      "Training loss: 0.3826028228616282\n",
      "Training loss: 0.32308325957038253\n",
      "Training loss: 0.2901266733450549\n",
      "Training loss: 0.264879000228224\n",
      "tensor(0.1651, grad_fn=<NllLossBackward0>)\n"
     ]
    }
   ],
   "source": [
    "model = nn.Sequential(nn.Linear(784, 128),\n",
    "                      nn.ReLU(),\n",
    "                      nn.Linear(128, 64),\n",
    "                      nn.ReLU(),\n",
    "                      nn.Linear(64, 10),\n",
    "                      nn.LogSoftmax(dim=1))\n",
    "\n",
    "criterion = nn.NLLLoss()\n",
    "optimizer = optim.SGD(model.parameters(), lr=0.01)\n",
    "epochs=5\n",
    "for n in range(epochs):\n",
    "    running_loss=0\n",
    "    for images, labels in trainloader:\n",
    "\n",
    "        images = images.view(images.shape[0], -1)\n",
    "        optimizer.zero_grad()\n",
    "        output = model.forward(images)\n",
    "        loss = criterion(output, labels)\n",
    "        loss.backward()\n",
    "        optimizer.step()\n",
    "        \n",
    "        running_loss += loss.item()\n",
    "        \n",
    "    else:\n",
    "        print(f\"Training loss: {running_loss/len(trainloader)}\")\n",
    "\n",
    "print(loss)"
   ]
  },
  {
   "cell_type": "code",
   "execution_count": 16,
   "metadata": {},
   "outputs": [
    {
     "data": {
      "image/png": "[encoded data removed]",
      "text/plain": [
       "<Figure size 600x900 with 2 Axes>"
      ]
     },
     "metadata": {},
     "output_type": "display_data"
    }
   ],
   "source": [
    "%matplotlib inline\n",
    "import helper\n",
    "\n",
    "images, labels = next(iter(trainloader))\n",
    "\n",
    "img = images[0].view(1, 784)\n",
    "# Turn off gradients to speed up this part\n",
    "with torch.no_grad():\n",
    "    logits = model.forward(img)\n",
    "\n",
    "# Output of the network are logits, need to take softmax for probabilities\n",
    "ps = F.softmax(logits, dim=1)\n",
    "helper.view_classify(img.view(1, 28, 28), ps)"
   ]
  }
 ],
 "metadata": {
  "kernelspec": {
   "display_name": "Python 3",
   "language": "python",
   "name": "python3"
  },
  "language_info": {
   "codemirror_mode": {
    "name": "ipython",
    "version": 3
   },
   "file_extension": ".py",
   "mimetype": "text/x-python",
   "name": "python",
   "nbconvert_exporter": "python",
   "pygments_lexer": "ipython3",
   "version": "3.10.11"
  },
  "orig_nbformat": 4
 },
 "nbformat": 4,
 "nbformat_minor": 2
}
